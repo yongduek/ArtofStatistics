{
 "cells": [
  {
   "cell_type": "code",
   "execution_count": 1,
   "metadata": {},
   "outputs": [],
   "source": [
    "import pandas as pd\n",
    "import numpy as np\n",
    "import seaborn as sns\n",
    "import matplotlib.pyplot as plt\n",
    "\n",
    "sns.set()"
   ]
  },
  {
   "cell_type": "code",
   "execution_count": 2,
   "metadata": {},
   "outputs": [],
   "source": [
    "df1991 = pd.read_csv('02-5-child-heart-surgery-1991-x.csv')\n",
    "df2012 = pd.read_csv('02-5-child-heart-surgery-2012-x.csv')"
   ]
  },
  {
   "cell_type": "code",
   "execution_count": 3,
   "metadata": {},
   "outputs": [
    {
     "data": {
      "text/html": [
       "<div>\n",
       "<style scoped>\n",
       "    .dataframe tbody tr th:only-of-type {\n",
       "        vertical-align: middle;\n",
       "    }\n",
       "\n",
       "    .dataframe tbody tr th {\n",
       "        vertical-align: top;\n",
       "    }\n",
       "\n",
       "    .dataframe thead th {\n",
       "        text-align: right;\n",
       "    }\n",
       "</style>\n",
       "<table border=\"1\" class=\"dataframe\">\n",
       "  <thead>\n",
       "    <tr style=\"text-align: right;\">\n",
       "      <th></th>\n",
       "      <th>Hospital</th>\n",
       "      <th>Operations</th>\n",
       "      <th>Survivors</th>\n",
       "      <th>Deaths</th>\n",
       "      <th>ThirtyDaySurvival</th>\n",
       "      <th>PercentageDying</th>\n",
       "    </tr>\n",
       "  </thead>\n",
       "  <tbody>\n",
       "    <tr>\n",
       "      <th>0</th>\n",
       "      <td>Bristol</td>\n",
       "      <td>143</td>\n",
       "      <td>102</td>\n",
       "      <td>41</td>\n",
       "      <td>71.3</td>\n",
       "      <td>28.7</td>\n",
       "    </tr>\n",
       "    <tr>\n",
       "      <th>1</th>\n",
       "      <td>Leicester</td>\n",
       "      <td>187</td>\n",
       "      <td>162</td>\n",
       "      <td>25</td>\n",
       "      <td>86.6</td>\n",
       "      <td>13.4</td>\n",
       "    </tr>\n",
       "    <tr>\n",
       "      <th>2</th>\n",
       "      <td>Leeds</td>\n",
       "      <td>323</td>\n",
       "      <td>299</td>\n",
       "      <td>24</td>\n",
       "      <td>92.6</td>\n",
       "      <td>7.4</td>\n",
       "    </tr>\n",
       "    <tr>\n",
       "      <th>3</th>\n",
       "      <td>Oxford</td>\n",
       "      <td>122</td>\n",
       "      <td>99</td>\n",
       "      <td>23</td>\n",
       "      <td>81.1</td>\n",
       "      <td>18.9</td>\n",
       "    </tr>\n",
       "    <tr>\n",
       "      <th>4</th>\n",
       "      <td>Guys</td>\n",
       "      <td>164</td>\n",
       "      <td>139</td>\n",
       "      <td>25</td>\n",
       "      <td>84.8</td>\n",
       "      <td>15.2</td>\n",
       "    </tr>\n",
       "  </tbody>\n",
       "</table>\n",
       "</div>"
      ],
      "text/plain": [
       "    Hospital  Operations  Survivors  Deaths  ThirtyDaySurvival  \\\n",
       "0    Bristol         143        102      41               71.3   \n",
       "1  Leicester         187        162      25               86.6   \n",
       "2      Leeds         323        299      24               92.6   \n",
       "3     Oxford         122         99      23               81.1   \n",
       "4       Guys         164        139      25               84.8   \n",
       "\n",
       "   PercentageDying  \n",
       "0             28.7  \n",
       "1             13.4  \n",
       "2              7.4  \n",
       "3             18.9  \n",
       "4             15.2  "
      ]
     },
     "execution_count": 3,
     "metadata": {},
     "output_type": "execute_result"
    }
   ],
   "source": [
    "df1991.head()"
   ]
  },
  {
   "cell_type": "code",
   "execution_count": 4,
   "metadata": {},
   "outputs": [
    {
     "data": {
      "text/html": [
       "<div>\n",
       "<style scoped>\n",
       "    .dataframe tbody tr th:only-of-type {\n",
       "        vertical-align: middle;\n",
       "    }\n",
       "\n",
       "    .dataframe tbody tr th {\n",
       "        vertical-align: top;\n",
       "    }\n",
       "\n",
       "    .dataframe thead th {\n",
       "        text-align: right;\n",
       "    }\n",
       "</style>\n",
       "<table border=\"1\" class=\"dataframe\">\n",
       "  <thead>\n",
       "    <tr style=\"text-align: right;\">\n",
       "      <th></th>\n",
       "      <th>Hospital</th>\n",
       "      <th>Operations</th>\n",
       "      <th>Survivors</th>\n",
       "      <th>Deaths</th>\n",
       "      <th>ThirtyDaySurvival</th>\n",
       "      <th>PercentageDying</th>\n",
       "    </tr>\n",
       "  </thead>\n",
       "  <tbody>\n",
       "    <tr>\n",
       "      <th>0</th>\n",
       "      <td>London - Harley Street</td>\n",
       "      <td>418</td>\n",
       "      <td>413</td>\n",
       "      <td>5</td>\n",
       "      <td>98.8</td>\n",
       "      <td>1.2</td>\n",
       "    </tr>\n",
       "    <tr>\n",
       "      <th>1</th>\n",
       "      <td>Leicester</td>\n",
       "      <td>607</td>\n",
       "      <td>593</td>\n",
       "      <td>14</td>\n",
       "      <td>97.7</td>\n",
       "      <td>2.3</td>\n",
       "    </tr>\n",
       "    <tr>\n",
       "      <th>2</th>\n",
       "      <td>Newcastle</td>\n",
       "      <td>668</td>\n",
       "      <td>653</td>\n",
       "      <td>15</td>\n",
       "      <td>97.8</td>\n",
       "      <td>2.2</td>\n",
       "    </tr>\n",
       "    <tr>\n",
       "      <th>3</th>\n",
       "      <td>Glasgow</td>\n",
       "      <td>760</td>\n",
       "      <td>733</td>\n",
       "      <td>27</td>\n",
       "      <td>96.4</td>\n",
       "      <td>3.6</td>\n",
       "    </tr>\n",
       "    <tr>\n",
       "      <th>4</th>\n",
       "      <td>Southampton</td>\n",
       "      <td>829</td>\n",
       "      <td>815</td>\n",
       "      <td>14</td>\n",
       "      <td>98.3</td>\n",
       "      <td>1.7</td>\n",
       "    </tr>\n",
       "  </tbody>\n",
       "</table>\n",
       "</div>"
      ],
      "text/plain": [
       "                  Hospital  Operations  Survivors  Deaths  ThirtyDaySurvival  \\\n",
       "0  London - Harley Street          418        413       5               98.8   \n",
       "1                Leicester         607        593      14               97.7   \n",
       "2                Newcastle         668        653      15               97.8   \n",
       "3                  Glasgow         760        733      27               96.4   \n",
       "4              Southampton         829        815      14               98.3   \n",
       "\n",
       "   PercentageDying  \n",
       "0              1.2  \n",
       "1              2.3  \n",
       "2              2.2  \n",
       "3              3.6  \n",
       "4              1.7  "
      ]
     },
     "execution_count": 4,
     "metadata": {},
     "output_type": "execute_result"
    }
   ],
   "source": [
    "df2012.head()"
   ]
  },
  {
   "cell_type": "markdown",
   "metadata": {},
   "source": [
    "## Survival in under-1s in 1991-1995"
   ]
  },
  {
   "cell_type": "code",
   "execution_count": 14,
   "metadata": {},
   "outputs": [
    {
     "data": {
      "text/html": [
       "<div>\n",
       "<style scoped>\n",
       "    .dataframe tbody tr th:only-of-type {\n",
       "        vertical-align: middle;\n",
       "    }\n",
       "\n",
       "    .dataframe tbody tr th {\n",
       "        vertical-align: top;\n",
       "    }\n",
       "\n",
       "    .dataframe thead th {\n",
       "        text-align: right;\n",
       "    }\n",
       "</style>\n",
       "<table border=\"1\" class=\"dataframe\">\n",
       "  <thead>\n",
       "    <tr style=\"text-align: right;\">\n",
       "      <th></th>\n",
       "      <th>Hospital</th>\n",
       "      <th>Operations</th>\n",
       "      <th>Survivors</th>\n",
       "      <th>Deaths</th>\n",
       "      <th>ThirtyDaySurvival</th>\n",
       "      <th>PercentageDying</th>\n",
       "    </tr>\n",
       "  </thead>\n",
       "  <tbody>\n",
       "    <tr>\n",
       "      <th>0</th>\n",
       "      <td>Bristol</td>\n",
       "      <td>143</td>\n",
       "      <td>102</td>\n",
       "      <td>41</td>\n",
       "      <td>71.3</td>\n",
       "      <td>28.7</td>\n",
       "    </tr>\n",
       "  </tbody>\n",
       "</table>\n",
       "</div>"
      ],
      "text/plain": [
       "  Hospital  Operations  Survivors  Deaths  ThirtyDaySurvival  PercentageDying\n",
       "0  Bristol         143        102      41               71.3             28.7"
      ]
     },
     "execution_count": 14,
     "metadata": {},
     "output_type": "execute_result"
    }
   ],
   "source": [
    "Bristol = df1991[df1991.Hospital == 'Bristol']\n",
    "Bristol"
   ]
  },
  {
   "cell_type": "code",
   "execution_count": 35,
   "metadata": {},
   "outputs": [
    {
     "data": {
      "image/png": "[encoded data removed]",
      "text/plain": [
       "<Figure size 432x288 with 1 Axes>"
      ]
     },
     "metadata": {
      "needs_background": "light"
     },
     "output_type": "display_data"
    }
   ],
   "source": [
    "plt.scatter(df1991.Operations, df1991.ThirtyDaySurvival);\n",
    "plt.ylim([68, 101])\n",
    "plt.title('Survival in under-1s in 1991-1995');\n",
    "plt.ylabel('%30-day survival')\n",
    "plt.xlabel('# of operations')\n",
    "plt.text(Bristol.Operations + 10, Bristol.ThirtyDaySurvival, 'Bristol');\n",
    "plt.savefig('1991.png')"
   ]
  },
  {
   "cell_type": "markdown",
   "metadata": {},
   "source": [
    "## Survival for all children, 2012-2015"
   ]
  },
  {
   "cell_type": "code",
   "execution_count": 36,
   "metadata": {},
   "outputs": [
    {
     "data": {
      "image/png": "[encoded data removed]",
      "text/plain": [
       "<Figure size 432x288 with 1 Axes>"
      ]
     },
     "metadata": {
      "needs_background": "light"
     },
     "output_type": "display_data"
    }
   ],
   "source": [
    "plt.scatter(df2012.Operations, df2012.ThirtyDaySurvival);\n",
    "plt.ylim([95, 100])\n",
    "plt.title('Survival for all children, 2012-1015');\n",
    "plt.ylabel('%30-day survival')\n",
    "plt.xlabel('# of operations');\n",
    "plt.savefig('2012.png')"
   ]
  },
  {
   "cell_type": "markdown",
   "metadata": {},
   "source": [
    "## Pearson Correlation Coefficient\n",
    "\n",
    "``scipy.stats.pearsonr(x, y)``\n",
    "\n",
    "Calculates a Pearson correlation coefficient and the p-value for testing non-correlation.\n",
    "https://docs.scipy.org/doc/scipy-0.14.0/reference/generated/scipy.stats.pearsonr.html\n"
   ]
  },
  {
   "cell_type": "code",
   "execution_count": 30,
   "metadata": {},
   "outputs": [],
   "source": [
    "import scipy.stats as stats"
   ]
  },
  {
   "cell_type": "code",
   "execution_count": 31,
   "metadata": {},
   "outputs": [
    {
     "data": {
      "text/plain": [
       "(0.5836903619890552, 0.04631739742249065)"
      ]
     },
     "execution_count": 31,
     "metadata": {},
     "output_type": "execute_result"
    }
   ],
   "source": [
    "stats.pearsonr(df1991.Operations, df1991.ThirtyDaySurvival)"
   ]
  },
  {
   "cell_type": "code",
   "execution_count": 33,
   "metadata": {},
   "outputs": [],
   "source": [
    "df1991_woBristol = df1991[df1991.Hospital != 'Bristol']"
   ]
  },
  {
   "cell_type": "code",
   "execution_count": 34,
   "metadata": {},
   "outputs": [
    {
     "data": {
      "text/plain": [
       "(0.6627750481483313, 0.026247932354399713)"
      ]
     },
     "execution_count": 34,
     "metadata": {},
     "output_type": "execute_result"
    }
   ],
   "source": [
    "stats.pearsonr(df1991_woBristol.Operations, df1991_woBristol.ThirtyDaySurvival)"
   ]
  },
  {
   "cell_type": "code",
   "execution_count": 41,
   "metadata": {},
   "outputs": [
    {
     "data": {
      "text/plain": [
       "SpearmanrResult(correlation=0.7972685832618591, pvalue=0.0032922642485823414)"
      ]
     },
     "execution_count": 41,
     "metadata": {},
     "output_type": "execute_result"
    }
   ],
   "source": [
    "stats.spearmanr(df1991_woBristol.Operations, df1991_woBristol.ThirtyDaySurvival)"
   ]
  },
  {
   "cell_type": "code",
   "execution_count": 38,
   "metadata": {},
   "outputs": [
    {
     "data": {
      "text/plain": [
       "(0.16152501205191117, 0.5980626937559995)"
      ]
     },
     "execution_count": 38,
     "metadata": {},
     "output_type": "execute_result"
    }
   ],
   "source": [
    "stats.pearsonr(df2012.Operations, df2012.ThirtyDaySurvival)"
   ]
  },
  {
   "cell_type": "code",
   "execution_count": 39,
   "metadata": {},
   "outputs": [
    {
     "data": {
      "text/plain": [
       "SpearmanrResult(correlation=0.0027663178805594477, pvalue=0.9928438960989477)"
      ]
     },
     "execution_count": 39,
     "metadata": {},
     "output_type": "execute_result"
    }
   ],
   "source": [
    "stats.spearmanr(df2012.Operations, df2012.ThirtyDaySurvival)"
   ]
  },
  {
   "cell_type": "markdown",
   "metadata": {},
   "source": [
    "## Spearman's Correlation\n",
    "``scipy.stats.spearmanr(a, b=None, axis=0, nan_policy='propagate')``\n",
    "\n",
    "Calculate a Spearman correlation coefficient with associated p-value.\n",
    "\n",
    "The Spearman rank-order correlation coefficient is a nonparametric measure of the monotonicity of the relationship between two datasets. Unlike the Pearson correlation, the Spearman correlation does not assume that both datasets are normally distributed. Like other correlation coefficients, this one varies between -1 and +1 with 0 implying no correlation. Correlations of -1 or +1 imply an exact monotonic relationship. Positive correlations imply that as x increases, so does y. Negative correlations imply that as x increases, y decreases."
   ]
  },
  {
   "cell_type": "code",
   "execution_count": 37,
   "metadata": {},
   "outputs": [
    {
     "data": {
      "text/plain": [
       "SpearmanrResult(correlation=0.8371291296643238, pvalue=0.0006820012896813308)"
      ]
     },
     "execution_count": 37,
     "metadata": {},
     "output_type": "execute_result"
    }
   ],
   "source": [
    "stats.spearmanr(df1991.Operations, df1991.ThirtyDaySurvival)"
   ]
  },
  {
   "cell_type": "code",
   "execution_count": 40,
   "metadata": {},
   "outputs": [
    {
     "data": {
      "text/plain": [
       "SpearmanrResult(correlation=0.0027663178805594477, pvalue=0.9928438960989477)"
      ]
     },
     "execution_count": 40,
     "metadata": {},
     "output_type": "execute_result"
    }
   ],
   "source": [
    "stats.spearmanr(df2012.Operations, df2012.ThirtyDaySurvival)"
   ]
  },
  {
   "cell_type": "code",
   "execution_count": null,
   "metadata": {},
   "outputs": [],
   "source": []
  }
 ],
 "metadata": {
  "kernelspec": {
   "display_name": "Python 3",
   "language": "python",
   "name": "python3"
  },
  "language_info": {
   "codemirror_mode": {
    "name": "ipython",
    "version": 3
   },
   "file_extension": ".py",
   "mimetype": "text/x-python",
   "name": "python",
   "nbconvert_exporter": "python",
   "pygments_lexer": "ipython3",
   "version": "3.7.5"
  }
 },
 "nbformat": 4,
 "nbformat_minor": 4
}
