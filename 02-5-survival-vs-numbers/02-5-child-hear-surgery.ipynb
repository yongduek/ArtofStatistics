{
 "cells": [
  {
   "cell_type": "code",
   "execution_count": 55,
   "metadata": {},
   "outputs": [],
   "source": [
    "import pandas as pd\n",
    "import numpy as np\n",
    "import seaborn as sns\n",
    "import matplotlib.pyplot as plt\n",
    "\n",
    "sns.set()"
   ]
  },
  {
   "cell_type": "code",
   "execution_count": 56,
   "metadata": {},
   "outputs": [],
   "source": [
    "df1991 = pd.read_csv('02-5-child-heart-surgery-1991-x.csv')\n",
    "df2012 = pd.read_csv('02-5-child-heart-surgery-2012-x.csv')"
   ]
  },
  {
   "cell_type": "code",
   "execution_count": 57,
   "metadata": {},
   "outputs": [
    {
     "data": {
      "text/html": [
       "<div>\n",
       "<style scoped>\n",
       "    .dataframe tbody tr th:only-of-type {\n",
       "        vertical-align: middle;\n",
       "    }\n",
       "\n",
       "    .dataframe tbody tr th {\n",
       "        vertical-align: top;\n",
       "    }\n",
       "\n",
       "    .dataframe thead th {\n",
       "        text-align: right;\n",
       "    }\n",
       "</style>\n",
       "<table border=\"1\" class=\"dataframe\">\n",
       "  <thead>\n",
       "    <tr style=\"text-align: right;\">\n",
       "      <th></th>\n",
       "      <th>Hospital</th>\n",
       "      <th>Operations</th>\n",
       "      <th>Survivors</th>\n",
       "      <th>Deaths</th>\n",
       "      <th>ThirtyDaySurvival</th>\n",
       "      <th>PercentageDying</th>\n",
       "    </tr>\n",
       "  </thead>\n",
       "  <tbody>\n",
       "    <tr>\n",
       "      <th>0</th>\n",
       "      <td>Bristol</td>\n",
       "      <td>143</td>\n",
       "      <td>102</td>\n",
       "      <td>41</td>\n",
       "      <td>71.3</td>\n",
       "      <td>28.7</td>\n",
       "    </tr>\n",
       "    <tr>\n",
       "      <th>1</th>\n",
       "      <td>Leicester</td>\n",
       "      <td>187</td>\n",
       "      <td>162</td>\n",
       "      <td>25</td>\n",
       "      <td>86.6</td>\n",
       "      <td>13.4</td>\n",
       "    </tr>\n",
       "    <tr>\n",
       "      <th>2</th>\n",
       "      <td>Leeds</td>\n",
       "      <td>323</td>\n",
       "      <td>299</td>\n",
       "      <td>24</td>\n",
       "      <td>92.6</td>\n",
       "      <td>7.4</td>\n",
       "    </tr>\n",
       "    <tr>\n",
       "      <th>3</th>\n",
       "      <td>Oxford</td>\n",
       "      <td>122</td>\n",
       "      <td>99</td>\n",
       "      <td>23</td>\n",
       "      <td>81.1</td>\n",
       "      <td>18.9</td>\n",
       "    </tr>\n",
       "    <tr>\n",
       "      <th>4</th>\n",
       "      <td>Guys</td>\n",
       "      <td>164</td>\n",
       "      <td>139</td>\n",
       "      <td>25</td>\n",
       "      <td>84.8</td>\n",
       "      <td>15.2</td>\n",
       "    </tr>\n",
       "  </tbody>\n",
       "</table>\n",
       "</div>"
      ],
      "text/plain": [
       "    Hospital  Operations  Survivors  Deaths  ThirtyDaySurvival  \\\n",
       "0    Bristol         143        102      41               71.3   \n",
       "1  Leicester         187        162      25               86.6   \n",
       "2      Leeds         323        299      24               92.6   \n",
       "3     Oxford         122         99      23               81.1   \n",
       "4       Guys         164        139      25               84.8   \n",
       "\n",
       "   PercentageDying  \n",
       "0             28.7  \n",
       "1             13.4  \n",
       "2              7.4  \n",
       "3             18.9  \n",
       "4             15.2  "
      ]
     },
     "execution_count": 57,
     "metadata": {},
     "output_type": "execute_result"
    }
   ],
   "source": [
    "df1991.head()"
   ]
  },
  {
   "cell_type": "code",
   "execution_count": 58,
   "metadata": {},
   "outputs": [
    {
     "data": {
      "text/html": [
       "<div>\n",
       "<style scoped>\n",
       "    .dataframe tbody tr th:only-of-type {\n",
       "        vertical-align: middle;\n",
       "    }\n",
       "\n",
       "    .dataframe tbody tr th {\n",
       "        vertical-align: top;\n",
       "    }\n",
       "\n",
       "    .dataframe thead th {\n",
       "        text-align: right;\n",
       "    }\n",
       "</style>\n",
       "<table border=\"1\" class=\"dataframe\">\n",
       "  <thead>\n",
       "    <tr style=\"text-align: right;\">\n",
       "      <th></th>\n",
       "      <th>Hospital</th>\n",
       "      <th>Operations</th>\n",
       "      <th>Survivors</th>\n",
       "      <th>Deaths</th>\n",
       "      <th>ThirtyDaySurvival</th>\n",
       "      <th>PercentageDying</th>\n",
       "    </tr>\n",
       "  </thead>\n",
       "  <tbody>\n",
       "    <tr>\n",
       "      <th>0</th>\n",
       "      <td>London - Harley Street</td>\n",
       "      <td>418</td>\n",
       "      <td>413</td>\n",
       "      <td>5</td>\n",
       "      <td>98.8</td>\n",
       "      <td>1.2</td>\n",
       "    </tr>\n",
       "    <tr>\n",
       "      <th>1</th>\n",
       "      <td>Leicester</td>\n",
       "      <td>607</td>\n",
       "      <td>593</td>\n",
       "      <td>14</td>\n",
       "      <td>97.7</td>\n",
       "      <td>2.3</td>\n",
       "    </tr>\n",
       "    <tr>\n",
       "      <th>2</th>\n",
       "      <td>Newcastle</td>\n",
       "      <td>668</td>\n",
       "      <td>653</td>\n",
       "      <td>15</td>\n",
       "      <td>97.8</td>\n",
       "      <td>2.2</td>\n",
       "    </tr>\n",
       "    <tr>\n",
       "      <th>3</th>\n",
       "      <td>Glasgow</td>\n",
       "      <td>760</td>\n",
       "      <td>733</td>\n",
       "      <td>27</td>\n",
       "      <td>96.4</td>\n",
       "      <td>3.6</td>\n",
       "    </tr>\n",
       "    <tr>\n",
       "      <th>4</th>\n",
       "      <td>Southampton</td>\n",
       "      <td>829</td>\n",
       "      <td>815</td>\n",
       "      <td>14</td>\n",
       "      <td>98.3</td>\n",
       "      <td>1.7</td>\n",
       "    </tr>\n",
       "  </tbody>\n",
       "</table>\n",
       "</div>"
      ],
      "text/plain": [
       "                  Hospital  Operations  Survivors  Deaths  ThirtyDaySurvival  \\\n",
       "0  London - Harley Street          418        413       5               98.8   \n",
       "1                Leicester         607        593      14               97.7   \n",
       "2                Newcastle         668        653      15               97.8   \n",
       "3                  Glasgow         760        733      27               96.4   \n",
       "4              Southampton         829        815      14               98.3   \n",
       "\n",
       "   PercentageDying  \n",
       "0              1.2  \n",
       "1              2.3  \n",
       "2              2.2  \n",
       "3              3.6  \n",
       "4              1.7  "
      ]
     },
     "execution_count": 58,
     "metadata": {},
     "output_type": "execute_result"
    }
   ],
   "source": [
    "df2012.head()"
   ]
  },
  {
   "cell_type": "markdown",
   "metadata": {},
   "source": [
    "## Survival in under-1s in 1991-1995"
   ]
  },
  {
   "cell_type": "code",
   "execution_count": 59,
   "metadata": {},
   "outputs": [
    {
     "data": {
      "text/html": [
       "<div>\n",
       "<style scoped>\n",
       "    .dataframe tbody tr th:only-of-type {\n",
       "        vertical-align: middle;\n",
       "    }\n",
       "\n",
       "    .dataframe tbody tr th {\n",
       "        vertical-align: top;\n",
       "    }\n",
       "\n",
       "    .dataframe thead th {\n",
       "        text-align: right;\n",
       "    }\n",
       "</style>\n",
       "<table border=\"1\" class=\"dataframe\">\n",
       "  <thead>\n",
       "    <tr style=\"text-align: right;\">\n",
       "      <th></th>\n",
       "      <th>Hospital</th>\n",
       "      <th>Operations</th>\n",
       "      <th>Survivors</th>\n",
       "      <th>Deaths</th>\n",
       "      <th>ThirtyDaySurvival</th>\n",
       "      <th>PercentageDying</th>\n",
       "    </tr>\n",
       "  </thead>\n",
       "  <tbody>\n",
       "    <tr>\n",
       "      <th>0</th>\n",
       "      <td>Bristol</td>\n",
       "      <td>143</td>\n",
       "      <td>102</td>\n",
       "      <td>41</td>\n",
       "      <td>71.3</td>\n",
       "      <td>28.7</td>\n",
       "    </tr>\n",
       "  </tbody>\n",
       "</table>\n",
       "</div>"
      ],
      "text/plain": [
       "  Hospital  Operations  Survivors  Deaths  ThirtyDaySurvival  PercentageDying\n",
       "0  Bristol         143        102      41               71.3             28.7"
      ]
     },
     "execution_count": 59,
     "metadata": {},
     "output_type": "execute_result"
    }
   ],
   "source": [
    "Bristol = df1991[df1991.Hospital == 'Bristol']\n",
    "Bristol"
   ]
  },
  {
   "cell_type": "code",
   "execution_count": 60,
   "metadata": {},
   "outputs": [
    {
     "data": {
      "image/png": "[encoded data removed]",
      "text/plain": [
       "<Figure size 432x288 with 1 Axes>"
      ]
     },
     "metadata": {},
     "output_type": "display_data"
    }
   ],
   "source": [
    "plt.scatter(df1991.Operations, df1991.ThirtyDaySurvival);\n",
    "plt.ylim([68, 101])\n",
    "plt.title('Survival in under-1s in 1991-1995');\n",
    "plt.ylabel('%30-day survival')\n",
    "plt.xlabel('# of operations')\n",
    "plt.text(Bristol.Operations + 10, Bristol.ThirtyDaySurvival, 'Bristol');\n",
    "plt.savefig('1991.png')"
   ]
  },
  {
   "cell_type": "markdown",
   "metadata": {},
   "source": [
    "## Survival for all children, 2012-2015"
   ]
  },
  {
   "cell_type": "code",
   "execution_count": 61,
   "metadata": {},
   "outputs": [
    {
     "data": {
      "image/png": "[encoded data removed]",
      "text/plain": [
       "<Figure size 432x288 with 1 Axes>"
      ]
     },
     "metadata": {},
     "output_type": "display_data"
    }
   ],
   "source": [
    "plt.scatter(df2012.Operations, df2012.ThirtyDaySurvival);\n",
    "plt.ylim([95, 100])\n",
    "plt.title('Survival for all children, 2012-1015');\n",
    "plt.ylabel('%30-day survival')\n",
    "plt.xlabel('# of operations');\n",
    "plt.savefig('2012.png')"
   ]
  },
  {
   "cell_type": "markdown",
   "metadata": {},
   "source": [
    "## Pearson Correlation Coefficient\n",
    "\n",
    "``scipy.stats.pearsonr(x, y)``\n",
    "\n",
    "Calculates a Pearson correlation coefficient and the p-value for testing non-correlation.\n",
    "https://docs.scipy.org/doc/scipy-0.14.0/reference/generated/scipy.stats.pearsonr.html\n"
   ]
  },
  {
   "cell_type": "code",
   "execution_count": 62,
   "metadata": {},
   "outputs": [],
   "source": [
    "import scipy.stats as stats"
   ]
  },
  {
   "cell_type": "code",
   "execution_count": 63,
   "metadata": {},
   "outputs": [
    {
     "data": {
      "text/plain": [
       "(0.5836903619890552, 0.04631739742249065)"
      ]
     },
     "execution_count": 63,
     "metadata": {},
     "output_type": "execute_result"
    }
   ],
   "source": [
    "stats.pearsonr(df1991.Operations, df1991.ThirtyDaySurvival)"
   ]
  },
  {
   "cell_type": "code",
   "execution_count": 64,
   "metadata": {},
   "outputs": [],
   "source": [
    "df1991_woBristol = df1991[df1991.Hospital != 'Bristol']"
   ]
  },
  {
   "cell_type": "code",
   "execution_count": 65,
   "metadata": {},
   "outputs": [
    {
     "data": {
      "text/plain": [
       "(0.6627750481483313, 0.026247932354399713)"
      ]
     },
     "execution_count": 65,
     "metadata": {},
     "output_type": "execute_result"
    }
   ],
   "source": [
    "stats.pearsonr(df1991_woBristol.Operations, df1991_woBristol.ThirtyDaySurvival)"
   ]
  },
  {
   "cell_type": "code",
   "execution_count": 66,
   "metadata": {},
   "outputs": [
    {
     "data": {
      "text/plain": [
       "SpearmanrResult(correlation=0.7972685832618591, pvalue=0.0032922642485823414)"
      ]
     },
     "execution_count": 66,
     "metadata": {},
     "output_type": "execute_result"
    }
   ],
   "source": [
    "stats.spearmanr(df1991_woBristol.Operations, df1991_woBristol.ThirtyDaySurvival)"
   ]
  },
  {
   "cell_type": "code",
   "execution_count": 67,
   "metadata": {},
   "outputs": [
    {
     "data": {
      "text/plain": [
       "(0.16152501205191117, 0.5980626937559995)"
      ]
     },
     "execution_count": 67,
     "metadata": {},
     "output_type": "execute_result"
    }
   ],
   "source": [
    "stats.pearsonr(df2012.Operations, df2012.ThirtyDaySurvival)"
   ]
  },
  {
   "cell_type": "code",
   "execution_count": 68,
   "metadata": {},
   "outputs": [
    {
     "data": {
      "text/plain": [
       "SpearmanrResult(correlation=0.0027663178805594477, pvalue=0.9928438960989477)"
      ]
     },
     "execution_count": 68,
     "metadata": {},
     "output_type": "execute_result"
    }
   ],
   "source": [
    "stats.spearmanr(df2012.Operations, df2012.ThirtyDaySurvival)"
   ]
  },
  {
   "cell_type": "markdown",
   "metadata": {},
   "source": [
    "## Spearman's Correlation\n",
    "``scipy.stats.spearmanr(a, b=None, axis=0, nan_policy='propagate')``\n",
    "\n",
    "Calculate a Spearman correlation coefficient with associated p-value.\n",
    "\n",
    "The Spearman rank-order correlation coefficient is a nonparametric measure of the monotonicity of the relationship between two datasets. Unlike the Pearson correlation, the Spearman correlation does not assume that both datasets are normally distributed. Like other correlation coefficients, this one varies between -1 and +1 with 0 implying no correlation. Correlations of -1 or +1 imply an exact monotonic relationship. Positive correlations imply that as x increases, so does y. Negative correlations imply that as x increases, y decreases."
   ]
  },
  {
   "cell_type": "code",
   "execution_count": 69,
   "metadata": {},
   "outputs": [
    {
     "data": {
      "text/plain": [
       "SpearmanrResult(correlation=0.8371291296643238, pvalue=0.0006820012896813308)"
      ]
     },
     "execution_count": 69,
     "metadata": {},
     "output_type": "execute_result"
    }
   ],
   "source": [
    "stats.spearmanr(df1991.Operations, df1991.ThirtyDaySurvival)"
   ]
  },
  {
   "cell_type": "code",
   "execution_count": 70,
   "metadata": {},
   "outputs": [
    {
     "data": {
      "text/plain": [
       "SpearmanrResult(correlation=0.0027663178805594477, pvalue=0.9928438960989477)"
      ]
     },
     "execution_count": 70,
     "metadata": {},
     "output_type": "execute_result"
    }
   ],
   "source": [
    "stats.spearmanr(df2012.Operations, df2012.ThirtyDaySurvival)"
   ]
  },
  {
   "cell_type": "code",
   "execution_count": 71,
   "metadata": {},
   "outputs": [
    {
     "data": {
      "text/html": [
       "<div>\n",
       "<style scoped>\n",
       "    .dataframe tbody tr th:only-of-type {\n",
       "        vertical-align: middle;\n",
       "    }\n",
       "\n",
       "    .dataframe tbody tr th {\n",
       "        vertical-align: top;\n",
       "    }\n",
       "\n",
       "    .dataframe thead th {\n",
       "        text-align: right;\n",
       "    }\n",
       "</style>\n",
       "<table border=\"1\" class=\"dataframe\">\n",
       "  <thead>\n",
       "    <tr style=\"text-align: right;\">\n",
       "      <th></th>\n",
       "      <th>Operations</th>\n",
       "      <th>Survivors</th>\n",
       "      <th>Deaths</th>\n",
       "      <th>ThirtyDaySurvival</th>\n",
       "      <th>PercentageDying</th>\n",
       "    </tr>\n",
       "  </thead>\n",
       "  <tbody>\n",
       "    <tr>\n",
       "      <th>Operations</th>\n",
       "      <td>1.000000</td>\n",
       "      <td>0.999825</td>\n",
       "      <td>0.564827</td>\n",
       "      <td>0.161525</td>\n",
       "      <td>-0.161525</td>\n",
       "    </tr>\n",
       "    <tr>\n",
       "      <th>Survivors</th>\n",
       "      <td>0.999825</td>\n",
       "      <td>1.000000</td>\n",
       "      <td>0.549280</td>\n",
       "      <td>0.178614</td>\n",
       "      <td>-0.178614</td>\n",
       "    </tr>\n",
       "    <tr>\n",
       "      <th>Deaths</th>\n",
       "      <td>0.564827</td>\n",
       "      <td>0.549280</td>\n",
       "      <td>1.000000</td>\n",
       "      <td>-0.663355</td>\n",
       "      <td>0.663355</td>\n",
       "    </tr>\n",
       "    <tr>\n",
       "      <th>ThirtyDaySurvival</th>\n",
       "      <td>0.161525</td>\n",
       "      <td>0.178614</td>\n",
       "      <td>-0.663355</td>\n",
       "      <td>1.000000</td>\n",
       "      <td>-1.000000</td>\n",
       "    </tr>\n",
       "    <tr>\n",
       "      <th>PercentageDying</th>\n",
       "      <td>-0.161525</td>\n",
       "      <td>-0.178614</td>\n",
       "      <td>0.663355</td>\n",
       "      <td>-1.000000</td>\n",
       "      <td>1.000000</td>\n",
       "    </tr>\n",
       "  </tbody>\n",
       "</table>\n",
       "</div>"
      ],
      "text/plain": [
       "                   Operations  Survivors    Deaths  ThirtyDaySurvival  \\\n",
       "Operations           1.000000   0.999825  0.564827           0.161525   \n",
       "Survivors            0.999825   1.000000  0.549280           0.178614   \n",
       "Deaths               0.564827   0.549280  1.000000          -0.663355   \n",
       "ThirtyDaySurvival    0.161525   0.178614 -0.663355           1.000000   \n",
       "PercentageDying     -0.161525  -0.178614  0.663355          -1.000000   \n",
       "\n",
       "                   PercentageDying  \n",
       "Operations               -0.161525  \n",
       "Survivors                -0.178614  \n",
       "Deaths                    0.663355  \n",
       "ThirtyDaySurvival        -1.000000  \n",
       "PercentageDying           1.000000  "
      ]
     },
     "execution_count": 71,
     "metadata": {},
     "output_type": "execute_result"
    }
   ],
   "source": [
    "df2012.corr(method='pearson')"
   ]
  },
  {
   "cell_type": "code",
   "execution_count": 72,
   "metadata": {},
   "outputs": [
    {
     "data": {
      "text/html": [
       "<div>\n",
       "<style scoped>\n",
       "    .dataframe tbody tr th:only-of-type {\n",
       "        vertical-align: middle;\n",
       "    }\n",
       "\n",
       "    .dataframe tbody tr th {\n",
       "        vertical-align: top;\n",
       "    }\n",
       "\n",
       "    .dataframe thead th {\n",
       "        text-align: right;\n",
       "    }\n",
       "</style>\n",
       "<table border=\"1\" class=\"dataframe\">\n",
       "  <thead>\n",
       "    <tr style=\"text-align: right;\">\n",
       "      <th></th>\n",
       "      <th>Operations</th>\n",
       "      <th>Survivors</th>\n",
       "      <th>Deaths</th>\n",
       "      <th>ThirtyDaySurvival</th>\n",
       "      <th>PercentageDying</th>\n",
       "    </tr>\n",
       "  </thead>\n",
       "  <tbody>\n",
       "    <tr>\n",
       "      <th>Operations</th>\n",
       "      <td>1.000000</td>\n",
       "      <td>1.000000</td>\n",
       "      <td>0.636253</td>\n",
       "      <td>0.002766</td>\n",
       "      <td>-0.002766</td>\n",
       "    </tr>\n",
       "    <tr>\n",
       "      <th>Survivors</th>\n",
       "      <td>1.000000</td>\n",
       "      <td>1.000000</td>\n",
       "      <td>0.636253</td>\n",
       "      <td>0.002766</td>\n",
       "      <td>-0.002766</td>\n",
       "    </tr>\n",
       "    <tr>\n",
       "      <th>Deaths</th>\n",
       "      <td>0.636253</td>\n",
       "      <td>0.636253</td>\n",
       "      <td>1.000000</td>\n",
       "      <td>-0.701950</td>\n",
       "      <td>0.701950</td>\n",
       "    </tr>\n",
       "    <tr>\n",
       "      <th>ThirtyDaySurvival</th>\n",
       "      <td>0.002766</td>\n",
       "      <td>0.002766</td>\n",
       "      <td>-0.701950</td>\n",
       "      <td>1.000000</td>\n",
       "      <td>-1.000000</td>\n",
       "    </tr>\n",
       "    <tr>\n",
       "      <th>PercentageDying</th>\n",
       "      <td>-0.002766</td>\n",
       "      <td>-0.002766</td>\n",
       "      <td>0.701950</td>\n",
       "      <td>-1.000000</td>\n",
       "      <td>1.000000</td>\n",
       "    </tr>\n",
       "  </tbody>\n",
       "</table>\n",
       "</div>"
      ],
      "text/plain": [
       "                   Operations  Survivors    Deaths  ThirtyDaySurvival  \\\n",
       "Operations           1.000000   1.000000  0.636253           0.002766   \n",
       "Survivors            1.000000   1.000000  0.636253           0.002766   \n",
       "Deaths               0.636253   0.636253  1.000000          -0.701950   \n",
       "ThirtyDaySurvival    0.002766   0.002766 -0.701950           1.000000   \n",
       "PercentageDying     -0.002766  -0.002766  0.701950          -1.000000   \n",
       "\n",
       "                   PercentageDying  \n",
       "Operations               -0.002766  \n",
       "Survivors                -0.002766  \n",
       "Deaths                    0.701950  \n",
       "ThirtyDaySurvival        -1.000000  \n",
       "PercentageDying           1.000000  "
      ]
     },
     "execution_count": 72,
     "metadata": {},
     "output_type": "execute_result"
    }
   ],
   "source": [
    "df2012.corr(method='spearman')"
   ]
  },
  {
   "cell_type": "markdown",
   "metadata": {},
   "source": [
    "#### computation\n",
    "\n",
    "Spearman's r is the Pearson's r for the ranks of the variables."
   ]
  },
  {
   "cell_type": "code",
   "execution_count": 73,
   "metadata": {},
   "outputs": [],
   "source": [
    "df2012['rankOperations'] = stats.rankdata(df2012.Operations, )\n",
    "df2012['rankThirtyDaySurvival'] = stats.rankdata(df2012.ThirtyDaySurvival)\n",
    "df2012['rankDiff'] = df2012.rankOperations - df2012.rankThirtyDaySurvival\n",
    "df2012['rankDiff2'] = df2012.rankDiff ** 2"
   ]
  },
  {
   "cell_type": "code",
   "execution_count": 74,
   "metadata": {},
   "outputs": [
    {
     "data": {
      "text/html": [
       "<div>\n",
       "<style scoped>\n",
       "    .dataframe tbody tr th:only-of-type {\n",
       "        vertical-align: middle;\n",
       "    }\n",
       "\n",
       "    .dataframe tbody tr th {\n",
       "        vertical-align: top;\n",
       "    }\n",
       "\n",
       "    .dataframe thead th {\n",
       "        text-align: right;\n",
       "    }\n",
       "</style>\n",
       "<table border=\"1\" class=\"dataframe\">\n",
       "  <thead>\n",
       "    <tr style=\"text-align: right;\">\n",
       "      <th></th>\n",
       "      <th>Hospital</th>\n",
       "      <th>Operations</th>\n",
       "      <th>Survivors</th>\n",
       "      <th>Deaths</th>\n",
       "      <th>ThirtyDaySurvival</th>\n",
       "      <th>PercentageDying</th>\n",
       "      <th>rankOperations</th>\n",
       "      <th>rankThirtyDaySurvival</th>\n",
       "      <th>rankDiff</th>\n",
       "      <th>rankDiff2</th>\n",
       "    </tr>\n",
       "  </thead>\n",
       "  <tbody>\n",
       "    <tr>\n",
       "      <th>0</th>\n",
       "      <td>London - Harley Street</td>\n",
       "      <td>418</td>\n",
       "      <td>413</td>\n",
       "      <td>5</td>\n",
       "      <td>98.8</td>\n",
       "      <td>1.2</td>\n",
       "      <td>1.0</td>\n",
       "      <td>12.0</td>\n",
       "      <td>-11.0</td>\n",
       "      <td>121.00</td>\n",
       "    </tr>\n",
       "    <tr>\n",
       "      <th>1</th>\n",
       "      <td>Leicester</td>\n",
       "      <td>607</td>\n",
       "      <td>593</td>\n",
       "      <td>14</td>\n",
       "      <td>97.7</td>\n",
       "      <td>2.3</td>\n",
       "      <td>2.0</td>\n",
       "      <td>4.5</td>\n",
       "      <td>-2.5</td>\n",
       "      <td>6.25</td>\n",
       "    </tr>\n",
       "    <tr>\n",
       "      <th>2</th>\n",
       "      <td>Newcastle</td>\n",
       "      <td>668</td>\n",
       "      <td>653</td>\n",
       "      <td>15</td>\n",
       "      <td>97.8</td>\n",
       "      <td>2.2</td>\n",
       "      <td>3.0</td>\n",
       "      <td>6.0</td>\n",
       "      <td>-3.0</td>\n",
       "      <td>9.00</td>\n",
       "    </tr>\n",
       "    <tr>\n",
       "      <th>3</th>\n",
       "      <td>Glasgow</td>\n",
       "      <td>760</td>\n",
       "      <td>733</td>\n",
       "      <td>27</td>\n",
       "      <td>96.4</td>\n",
       "      <td>3.6</td>\n",
       "      <td>4.0</td>\n",
       "      <td>1.0</td>\n",
       "      <td>3.0</td>\n",
       "      <td>9.00</td>\n",
       "    </tr>\n",
       "    <tr>\n",
       "      <th>4</th>\n",
       "      <td>Southampton</td>\n",
       "      <td>829</td>\n",
       "      <td>815</td>\n",
       "      <td>14</td>\n",
       "      <td>98.3</td>\n",
       "      <td>1.7</td>\n",
       "      <td>5.0</td>\n",
       "      <td>10.0</td>\n",
       "      <td>-5.0</td>\n",
       "      <td>25.00</td>\n",
       "    </tr>\n",
       "    <tr>\n",
       "      <th>5</th>\n",
       "      <td>Bristol</td>\n",
       "      <td>835</td>\n",
       "      <td>821</td>\n",
       "      <td>14</td>\n",
       "      <td>98.3</td>\n",
       "      <td>1.7</td>\n",
       "      <td>6.0</td>\n",
       "      <td>10.0</td>\n",
       "      <td>-4.0</td>\n",
       "      <td>16.00</td>\n",
       "    </tr>\n",
       "    <tr>\n",
       "      <th>6</th>\n",
       "      <td>Dublin</td>\n",
       "      <td>983</td>\n",
       "      <td>960</td>\n",
       "      <td>23</td>\n",
       "      <td>97.7</td>\n",
       "      <td>2.3</td>\n",
       "      <td>7.0</td>\n",
       "      <td>4.5</td>\n",
       "      <td>2.5</td>\n",
       "      <td>6.25</td>\n",
       "    </tr>\n",
       "    <tr>\n",
       "      <th>7</th>\n",
       "      <td>Leeds</td>\n",
       "      <td>1038</td>\n",
       "      <td>1016</td>\n",
       "      <td>22</td>\n",
       "      <td>97.9</td>\n",
       "      <td>2.1</td>\n",
       "      <td>8.0</td>\n",
       "      <td>7.0</td>\n",
       "      <td>1.0</td>\n",
       "      <td>1.00</td>\n",
       "    </tr>\n",
       "    <tr>\n",
       "      <th>8</th>\n",
       "      <td>London - Brompton</td>\n",
       "      <td>1094</td>\n",
       "      <td>1075</td>\n",
       "      <td>19</td>\n",
       "      <td>98.3</td>\n",
       "      <td>1.7</td>\n",
       "      <td>9.0</td>\n",
       "      <td>10.0</td>\n",
       "      <td>-1.0</td>\n",
       "      <td>1.00</td>\n",
       "    </tr>\n",
       "    <tr>\n",
       "      <th>9</th>\n",
       "      <td>Liverpool</td>\n",
       "      <td>1132</td>\n",
       "      <td>1112</td>\n",
       "      <td>20</td>\n",
       "      <td>98.2</td>\n",
       "      <td>1.8</td>\n",
       "      <td>10.0</td>\n",
       "      <td>8.0</td>\n",
       "      <td>2.0</td>\n",
       "      <td>4.00</td>\n",
       "    </tr>\n",
       "    <tr>\n",
       "      <th>10</th>\n",
       "      <td>London - Evelina</td>\n",
       "      <td>1220</td>\n",
       "      <td>1185</td>\n",
       "      <td>35</td>\n",
       "      <td>97.1</td>\n",
       "      <td>2.9</td>\n",
       "      <td>11.0</td>\n",
       "      <td>2.0</td>\n",
       "      <td>9.0</td>\n",
       "      <td>81.00</td>\n",
       "    </tr>\n",
       "    <tr>\n",
       "      <th>11</th>\n",
       "      <td>Birmingham</td>\n",
       "      <td>1457</td>\n",
       "      <td>1421</td>\n",
       "      <td>36</td>\n",
       "      <td>97.5</td>\n",
       "      <td>2.5</td>\n",
       "      <td>12.0</td>\n",
       "      <td>3.0</td>\n",
       "      <td>9.0</td>\n",
       "      <td>81.00</td>\n",
       "    </tr>\n",
       "    <tr>\n",
       "      <th>12</th>\n",
       "      <td>London - Great Ormond Street</td>\n",
       "      <td>1892</td>\n",
       "      <td>1873</td>\n",
       "      <td>19</td>\n",
       "      <td>99.0</td>\n",
       "      <td>1.0</td>\n",
       "      <td>13.0</td>\n",
       "      <td>13.0</td>\n",
       "      <td>0.0</td>\n",
       "      <td>0.00</td>\n",
       "    </tr>\n",
       "  </tbody>\n",
       "</table>\n",
       "</div>"
      ],
      "text/plain": [
       "                        Hospital  Operations  Survivors  Deaths  \\\n",
       "0        London - Harley Street          418        413       5   \n",
       "1                      Leicester         607        593      14   \n",
       "2                      Newcastle         668        653      15   \n",
       "3                        Glasgow         760        733      27   \n",
       "4                    Southampton         829        815      14   \n",
       "5                        Bristol         835        821      14   \n",
       "6                         Dublin         983        960      23   \n",
       "7                          Leeds        1038       1016      22   \n",
       "8              London - Brompton        1094       1075      19   \n",
       "9                      Liverpool        1132       1112      20   \n",
       "10              London - Evelina        1220       1185      35   \n",
       "11                    Birmingham        1457       1421      36   \n",
       "12  London - Great Ormond Street        1892       1873      19   \n",
       "\n",
       "    ThirtyDaySurvival  PercentageDying  rankOperations  rankThirtyDaySurvival  \\\n",
       "0                98.8              1.2             1.0                   12.0   \n",
       "1                97.7              2.3             2.0                    4.5   \n",
       "2                97.8              2.2             3.0                    6.0   \n",
       "3                96.4              3.6             4.0                    1.0   \n",
       "4                98.3              1.7             5.0                   10.0   \n",
       "5                98.3              1.7             6.0                   10.0   \n",
       "6                97.7              2.3             7.0                    4.5   \n",
       "7                97.9              2.1             8.0                    7.0   \n",
       "8                98.3              1.7             9.0                   10.0   \n",
       "9                98.2              1.8            10.0                    8.0   \n",
       "10               97.1              2.9            11.0                    2.0   \n",
       "11               97.5              2.5            12.0                    3.0   \n",
       "12               99.0              1.0            13.0                   13.0   \n",
       "\n",
       "    rankDiff  rankDiff2  \n",
       "0      -11.0     121.00  \n",
       "1       -2.5       6.25  \n",
       "2       -3.0       9.00  \n",
       "3        3.0       9.00  \n",
       "4       -5.0      25.00  \n",
       "5       -4.0      16.00  \n",
       "6        2.5       6.25  \n",
       "7        1.0       1.00  \n",
       "8       -1.0       1.00  \n",
       "9        2.0       4.00  \n",
       "10       9.0      81.00  \n",
       "11       9.0      81.00  \n",
       "12       0.0       0.00  "
      ]
     },
     "execution_count": 74,
     "metadata": {},
     "output_type": "execute_result"
    }
   ],
   "source": [
    "df2012"
   ]
  },
  {
   "cell_type": "code",
   "execution_count": 75,
   "metadata": {},
   "outputs": [
    {
     "data": {
      "text/html": [
       "<div>\n",
       "<style scoped>\n",
       "    .dataframe tbody tr th:only-of-type {\n",
       "        vertical-align: middle;\n",
       "    }\n",
       "\n",
       "    .dataframe tbody tr th {\n",
       "        vertical-align: top;\n",
       "    }\n",
       "\n",
       "    .dataframe thead th {\n",
       "        text-align: right;\n",
       "    }\n",
       "</style>\n",
       "<table border=\"1\" class=\"dataframe\">\n",
       "  <thead>\n",
       "    <tr style=\"text-align: right;\">\n",
       "      <th></th>\n",
       "      <th>rankOperations</th>\n",
       "      <th>rankThirtyDaySurvival</th>\n",
       "    </tr>\n",
       "  </thead>\n",
       "  <tbody>\n",
       "    <tr>\n",
       "      <th>rankOperations</th>\n",
       "      <td>15.166667</td>\n",
       "      <td>0.041667</td>\n",
       "    </tr>\n",
       "    <tr>\n",
       "      <th>rankThirtyDaySurvival</th>\n",
       "      <td>0.041667</td>\n",
       "      <td>14.958333</td>\n",
       "    </tr>\n",
       "  </tbody>\n",
       "</table>\n",
       "</div>"
      ],
      "text/plain": [
       "                       rankOperations  rankThirtyDaySurvival\n",
       "rankOperations              15.166667               0.041667\n",
       "rankThirtyDaySurvival        0.041667              14.958333"
      ]
     },
     "execution_count": 75,
     "metadata": {},
     "output_type": "execute_result"
    }
   ],
   "source": [
    "cov_rank = df2012[['rankOperations', 'rankThirtyDaySurvival']].cov()\n",
    "cov_rank"
   ]
  },
  {
   "cell_type": "markdown",
   "metadata": {},
   "source": [
    "Now we compute the Spearman's rank correlation coefficient."
   ]
  },
  {
   "cell_type": "code",
   "execution_count": 76,
   "metadata": {},
   "outputs": [
    {
     "data": {
      "text/plain": [
       "0.002766317880559448"
      ]
     },
     "execution_count": 76,
     "metadata": {},
     "output_type": "execute_result"
    }
   ],
   "source": [
    "cov_rank.iloc[1,0] / np.sqrt(cov_rank.iloc[0,0] * cov_rank.iloc[1,1])"
   ]
  },
  {
   "cell_type": "code",
   "execution_count": 77,
   "metadata": {},
   "outputs": [],
   "source": [
    "s1 = df2012.rankOperations.std()\n",
    "s2 = df2012.rankThirtyDaySurvival.std()"
   ]
  },
  {
   "cell_type": "markdown",
   "metadata": {},
   "source": [
    "#### Q1. How do you really find the rank of an array?"
   ]
  },
  {
   "cell_type": "markdown",
   "metadata": {},
   "source": [
    "#### Q2. Do you know how to compute std and cov by yourself?"
   ]
  },
  {
   "cell_type": "code",
   "execution_count": null,
   "metadata": {},
   "outputs": [],
   "source": []
  }
 ],
 "metadata": {
  "kernelspec": {
   "display_name": "Python 3",
   "language": "python",
   "name": "python3"
  },
  "language_info": {
   "codemirror_mode": {
    "name": "ipython",
    "version": 3
   },
   "file_extension": ".py",
   "mimetype": "text/x-python",
   "name": "python",
   "nbconvert_exporter": "python",
   "pygments_lexer": "ipython3",
   "version": "3.7.5"
  }
 },
 "nbformat": 4,
 "nbformat_minor": 4
}
